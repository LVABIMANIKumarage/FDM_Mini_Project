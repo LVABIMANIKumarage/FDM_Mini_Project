{
 "cells": [
  {
   "cell_type": "code",
   "execution_count": null,
   "metadata": {
    "colab": {
     "base_uri": "https://localhost:8080/"
    },
    "executionInfo": {
     "elapsed": 2209,
     "status": "ok",
     "timestamp": 1631359582871,
     "user": {
      "displayName": "Abimani 1998 Kumarage",
      "photoUrl": "https://lh3.googleusercontent.com/a-/AOh14GhXau_6Fsnblc6v-3Bnwqh5kmB7vihI3mHo4fykwg=s64",
      "userId": "00808156177454875173"
     },
     "user_tz": -330
    },
    "id": "_VvoyEyZ8nLf",
    "outputId": "56a8c60a-9800-43c2-df03-dc3530db087d"
   },
   "outputs": [],
   "source": [
    "from google.colab import drive\n",
    "drive.mount('/content/drive')\n"
   ]
  },
  {
   "cell_type": "code",
   "execution_count": null,
   "metadata": {
    "colab": {
     "base_uri": "https://localhost:8080/"
    },
    "executionInfo": {
     "elapsed": 1810,
     "status": "ok",
     "timestamp": 1631359591482,
     "user": {
      "displayName": "Abimani 1998 Kumarage",
      "photoUrl": "https://lh3.googleusercontent.com/a-/AOh14GhXau_6Fsnblc6v-3Bnwqh5kmB7vihI3mHo4fykwg=s64",
      "userId": "00808156177454875173"
     },
     "user_tz": -330
    },
    "id": "oDPZH4Ds-Q8i",
    "outputId": "3afbce17-dfc0-4b09-c24d-9e013e5b6b7b"
   },
   "outputs": [],
   "source": [
    "%cd /content/drive/MyDrive/FDM_Colab/\n"
   ]
  },
  {
   "cell_type": "code",
   "execution_count": 2,
   "metadata": {
    "executionInfo": {
     "elapsed": 505,
     "status": "ok",
     "timestamp": 1631359596215,
     "user": {
      "displayName": "Abimani 1998 Kumarage",
      "photoUrl": "https://lh3.googleusercontent.com/a-/AOh14GhXau_6Fsnblc6v-3Bnwqh5kmB7vihI3mHo4fykwg=s64",
      "userId": "00808156177454875173"
     },
     "user_tz": -330
    },
    "id": "S4PyaayEAV3P"
   },
   "outputs": [
    {
     "ename": "ModuleNotFoundError",
     "evalue": "No module named 'plotly'",
     "output_type": "error",
     "traceback": [
      "\u001b[1;31m---------------------------------------------------------------------------\u001b[0m",
      "\u001b[1;31mModuleNotFoundError\u001b[0m                       Traceback (most recent call last)",
      "\u001b[1;32m~\\AppData\\Local\\Temp/ipykernel_7172/154311281.py\u001b[0m in \u001b[0;36m<module>\u001b[1;34m\u001b[0m\n\u001b[0;32m      2\u001b[0m \u001b[1;32mimport\u001b[0m \u001b[0mpandas\u001b[0m \u001b[1;32mas\u001b[0m \u001b[0mpd\u001b[0m \u001b[1;31m# data processing, CSV file I/O (e.g. pd.read_csv)\u001b[0m\u001b[1;33m\u001b[0m\u001b[1;33m\u001b[0m\u001b[0m\n\u001b[0;32m      3\u001b[0m \u001b[1;33m\u001b[0m\u001b[0m\n\u001b[1;32m----> 4\u001b[1;33m \u001b[1;32mimport\u001b[0m \u001b[0mplotly\u001b[0m\u001b[1;33m.\u001b[0m\u001b[0mexpress\u001b[0m \u001b[1;32mas\u001b[0m \u001b[0mpx\u001b[0m\u001b[1;33m\u001b[0m\u001b[1;33m\u001b[0m\u001b[0m\n\u001b[0m\u001b[0;32m      5\u001b[0m \u001b[1;33m\u001b[0m\u001b[0m\n\u001b[0;32m      6\u001b[0m \u001b[1;32mtry\u001b[0m\u001b[1;33m:\u001b[0m\u001b[1;33m\u001b[0m\u001b[1;33m\u001b[0m\u001b[0m\n",
      "\u001b[1;31mModuleNotFoundError\u001b[0m: No module named 'plotly'"
     ]
    }
   ],
   "source": [
    "import numpy as np # linear algebra\n",
    "import pandas as pd # data processing, CSV file I/O (e.g. pd.read_csv)\n",
    "\n",
    "import plotly.express as px\n",
    "\n",
    "try:\n",
    "    import apyori\n",
    "except:\n",
    "    !pip install apyori\n",
    "\n",
    "from apyori import apriori"
   ]
  },
  {
   "cell_type": "code",
   "execution_count": 3,
   "metadata": {
    "colab": {
     "base_uri": "https://localhost:8080/",
     "height": 220
    },
    "executionInfo": {
     "elapsed": 564,
     "status": "ok",
     "timestamp": 1631359602878,
     "user": {
      "displayName": "Abimani 1998 Kumarage",
      "photoUrl": "https://lh3.googleusercontent.com/a-/AOh14GhXau_6Fsnblc6v-3Bnwqh5kmB7vihI3mHo4fykwg=s64",
      "userId": "00808156177454875173"
     },
     "user_tz": -330
    },
    "id": "1mlmj6hdAeEM",
    "outputId": "7d52ee28-5a9c-4da2-9588-d795d30a29a0"
   },
   "outputs": [
    {
     "name": "stdout",
     "output_type": "stream",
     "text": [
      "Data Dimension: (38765, 7)\n"
     ]
    },
    {
     "data": {
      "text/html": [
       "<div>\n",
       "<style scoped>\n",
       "    .dataframe tbody tr th:only-of-type {\n",
       "        vertical-align: middle;\n",
       "    }\n",
       "\n",
       "    .dataframe tbody tr th {\n",
       "        vertical-align: top;\n",
       "    }\n",
       "\n",
       "    .dataframe thead th {\n",
       "        text-align: right;\n",
       "    }\n",
       "</style>\n",
       "<table border=\"1\" class=\"dataframe\">\n",
       "  <thead>\n",
       "    <tr style=\"text-align: right;\">\n",
       "      <th></th>\n",
       "      <th>Member_number</th>\n",
       "      <th>Date</th>\n",
       "      <th>itemDescription</th>\n",
       "      <th>year</th>\n",
       "      <th>month</th>\n",
       "      <th>day</th>\n",
       "      <th>day_of_week</th>\n",
       "    </tr>\n",
       "  </thead>\n",
       "  <tbody>\n",
       "    <tr>\n",
       "      <th>0</th>\n",
       "      <td>1808</td>\n",
       "      <td>2015-07-21</td>\n",
       "      <td>tropical fruit</td>\n",
       "      <td>2015</td>\n",
       "      <td>7</td>\n",
       "      <td>21</td>\n",
       "      <td>1</td>\n",
       "    </tr>\n",
       "    <tr>\n",
       "      <th>1</th>\n",
       "      <td>2552</td>\n",
       "      <td>2015-05-01</td>\n",
       "      <td>whole milk</td>\n",
       "      <td>2015</td>\n",
       "      <td>5</td>\n",
       "      <td>1</td>\n",
       "      <td>4</td>\n",
       "    </tr>\n",
       "    <tr>\n",
       "      <th>2</th>\n",
       "      <td>2300</td>\n",
       "      <td>2015-09-19</td>\n",
       "      <td>pip fruit</td>\n",
       "      <td>2015</td>\n",
       "      <td>9</td>\n",
       "      <td>19</td>\n",
       "      <td>5</td>\n",
       "    </tr>\n",
       "    <tr>\n",
       "      <th>3</th>\n",
       "      <td>1187</td>\n",
       "      <td>2015-12-12</td>\n",
       "      <td>other vegetables</td>\n",
       "      <td>2015</td>\n",
       "      <td>12</td>\n",
       "      <td>12</td>\n",
       "      <td>5</td>\n",
       "    </tr>\n",
       "    <tr>\n",
       "      <th>4</th>\n",
       "      <td>3037</td>\n",
       "      <td>2015-01-02</td>\n",
       "      <td>whole milk</td>\n",
       "      <td>2015</td>\n",
       "      <td>1</td>\n",
       "      <td>2</td>\n",
       "      <td>4</td>\n",
       "    </tr>\n",
       "  </tbody>\n",
       "</table>\n",
       "</div>"
      ],
      "text/plain": [
       "   Member_number        Date   itemDescription  year  month  day  day_of_week\n",
       "0           1808  2015-07-21    tropical fruit  2015      7   21            1\n",
       "1           2552  2015-05-01        whole milk  2015      5    1            4\n",
       "2           2300  2015-09-19         pip fruit  2015      9   19            5\n",
       "3           1187  2015-12-12  other vegetables  2015     12   12            5\n",
       "4           3037  2015-01-02        whole milk  2015      1    2            4"
      ]
     },
     "execution_count": 3,
     "metadata": {},
     "output_type": "execute_result"
    }
   ],
   "source": [
    "data = pd.read_csv(\"Groceries_dataset.csv\")\n",
    "print(\"Data Dimension:\", data.shape)\n",
    "data.head()"
   ]
  },
  {
   "cell_type": "code",
   "execution_count": 4,
   "metadata": {
    "colab": {
     "base_uri": "https://localhost:8080/"
    },
    "executionInfo": {
     "elapsed": 441,
     "status": "ok",
     "timestamp": 1631359608125,
     "user": {
      "displayName": "Abimani 1998 Kumarage",
      "photoUrl": "https://lh3.googleusercontent.com/a-/AOh14GhXau_6Fsnblc6v-3Bnwqh5kmB7vihI3mHo4fykwg=s64",
      "userId": "00808156177454875173"
     },
     "user_tz": -330
    },
    "id": "NkIveABGAj1Q",
    "outputId": "f3e89c4f-7d30-485b-fe95-e405e0f275f7"
   },
   "outputs": [
    {
     "data": {
      "text/plain": [
       "Member_number      False\n",
       "Date               False\n",
       "itemDescription    False\n",
       "year               False\n",
       "month              False\n",
       "day                False\n",
       "day_of_week        False\n",
       "dtype: bool"
      ]
     },
     "execution_count": 4,
     "metadata": {},
     "output_type": "execute_result"
    }
   ],
   "source": [
    "data.isnull().any()"
   ]
  },
  {
   "cell_type": "code",
   "execution_count": 5,
   "metadata": {
    "colab": {
     "base_uri": "https://localhost:8080/"
    },
    "executionInfo": {
     "elapsed": 1579,
     "status": "ok",
     "timestamp": 1631359615681,
     "user": {
      "displayName": "Abimani 1998 Kumarage",
      "photoUrl": "https://lh3.googleusercontent.com/a-/AOh14GhXau_6Fsnblc6v-3Bnwqh5kmB7vihI3mHo4fykwg=s64",
      "userId": "00808156177454875173"
     },
     "user_tz": -330
    },
    "id": "HH_nIfBRAuaS",
    "outputId": "968d119e-0610-45cd-af2e-54cf546c13fe"
   },
   "outputs": [
    {
     "name": "stdout",
     "output_type": "stream",
     "text": [
      "Total number of unique products are: 167\n"
     ]
    }
   ],
   "source": [
    "print(\"Total number of unique products are:\", len(data['itemDescription'].unique()))\n"
   ]
  },
  {
   "cell_type": "code",
   "execution_count": null,
   "metadata": {
    "colab": {
     "base_uri": "https://localhost:8080/"
    },
    "executionInfo": {
     "elapsed": 479,
     "status": "ok",
     "timestamp": 1631359620313,
     "user": {
      "displayName": "Abimani 1998 Kumarage",
      "photoUrl": "https://lh3.googleusercontent.com/a-/AOh14GhXau_6Fsnblc6v-3Bnwqh5kmB7vihI3mHo4fykwg=s64",
      "userId": "00808156177454875173"
     },
     "user_tz": -330
    },
    "id": "TiMEnnQ1Az31",
    "outputId": "d0df8462-2cc3-4053-cc97-95bdfb44e3c5"
   },
   "outputs": [],
   "source": [
    "#Top 10 frequently sold products\n",
    "print(\"Top 10 frequently sold products(Tabular Representation)\")\n",
    "x = data['itemDescription'].value_counts().sort_values(ascending=False)[:10]\n",
    "x"
   ]
  },
  {
   "cell_type": "code",
   "execution_count": 7,
   "metadata": {
    "colab": {
     "base_uri": "https://localhost:8080/",
     "height": 542
    },
    "executionInfo": {
     "elapsed": 439,
     "status": "ok",
     "timestamp": 1631359626436,
     "user": {
      "displayName": "Abimani 1998 Kumarage",
      "photoUrl": "https://lh3.googleusercontent.com/a-/AOh14GhXau_6Fsnblc6v-3Bnwqh5kmB7vihI3mHo4fykwg=s64",
      "userId": "00808156177454875173"
     },
     "user_tz": -330
    },
    "id": "CksLr91HBJPV",
    "outputId": "e0069266-49b6-4195-833b-983627993cb2"
   },
   "outputs": [
    {
     "ename": "NameError",
     "evalue": "name 'px' is not defined",
     "output_type": "error",
     "traceback": [
      "\u001b[1;31m---------------------------------------------------------------------------\u001b[0m",
      "\u001b[1;31mNameError\u001b[0m                                 Traceback (most recent call last)",
      "\u001b[1;32m~\\AppData\\Local\\Temp/ipykernel_7172/2874145063.py\u001b[0m in \u001b[0;36m<module>\u001b[1;34m\u001b[0m\n\u001b[1;32m----> 1\u001b[1;33m \u001b[0mfig\u001b[0m \u001b[1;33m=\u001b[0m \u001b[0mpx\u001b[0m\u001b[1;33m.\u001b[0m\u001b[0mbar\u001b[0m\u001b[1;33m(\u001b[0m\u001b[0mx\u001b[0m\u001b[1;33m=\u001b[0m \u001b[0mx\u001b[0m\u001b[1;33m.\u001b[0m\u001b[0mindex\u001b[0m\u001b[1;33m,\u001b[0m \u001b[0my\u001b[0m\u001b[1;33m=\u001b[0m \u001b[0mx\u001b[0m\u001b[1;33m.\u001b[0m\u001b[0mvalues\u001b[0m\u001b[1;33m)\u001b[0m\u001b[1;33m\u001b[0m\u001b[1;33m\u001b[0m\u001b[0m\n\u001b[0m\u001b[0;32m      2\u001b[0m \u001b[0mfig\u001b[0m\u001b[1;33m.\u001b[0m\u001b[0mupdate_layout\u001b[0m\u001b[1;33m(\u001b[0m\u001b[0mtitle_text\u001b[0m\u001b[1;33m=\u001b[0m \u001b[1;34m\"Top 10 frequently sold products (Graphical Representation)\"\u001b[0m\u001b[1;33m,\u001b[0m \u001b[0mxaxis_title\u001b[0m\u001b[1;33m=\u001b[0m \u001b[1;34m\"Products\"\u001b[0m\u001b[1;33m,\u001b[0m \u001b[0myaxis_title\u001b[0m\u001b[1;33m=\u001b[0m\u001b[1;34m\"Count\"\u001b[0m\u001b[1;33m)\u001b[0m\u001b[1;33m\u001b[0m\u001b[1;33m\u001b[0m\u001b[0m\n\u001b[0;32m      3\u001b[0m \u001b[0mfig\u001b[0m\u001b[1;33m.\u001b[0m\u001b[0mshow\u001b[0m\u001b[1;33m(\u001b[0m\u001b[1;33m)\u001b[0m\u001b[1;33m\u001b[0m\u001b[1;33m\u001b[0m\u001b[0m\n",
      "\u001b[1;31mNameError\u001b[0m: name 'px' is not defined"
     ]
    }
   ],
   "source": [
    "#plot in to the figure\n",
    "fig = px.bar(x= x.index, y= x.values)\n",
    "fig.update_layout(title_text= \"Top 10 frequently sold products (Graphical Representation)\", xaxis_title= \"Products\", yaxis_title=\"Count\")\n",
    "fig.show()"
   ]
  },
  {
   "cell_type": "code",
   "execution_count": 8,
   "metadata": {
    "colab": {
     "base_uri": "https://localhost:8080/",
     "height": 203
    },
    "executionInfo": {
     "elapsed": 665,
     "status": "ok",
     "timestamp": 1631359632234,
     "user": {
      "displayName": "Abimani 1998 Kumarage",
      "photoUrl": "https://lh3.googleusercontent.com/a-/AOh14GhXau_6Fsnblc6v-3Bnwqh5kmB7vihI3mHo4fykwg=s64",
      "userId": "00808156177454875173"
     },
     "user_tz": -330
    },
    "id": "QwJZHcZmBlma",
    "outputId": "571f9fa8-3f36-4a2b-b528-21ecf4cd8188"
   },
   "outputs": [
    {
     "data": {
      "text/html": [
       "<div>\n",
       "<style scoped>\n",
       "    .dataframe tbody tr th:only-of-type {\n",
       "        vertical-align: middle;\n",
       "    }\n",
       "\n",
       "    .dataframe tbody tr th {\n",
       "        vertical-align: top;\n",
       "    }\n",
       "\n",
       "    .dataframe thead th {\n",
       "        text-align: right;\n",
       "    }\n",
       "</style>\n",
       "<table border=\"1\" class=\"dataframe\">\n",
       "  <thead>\n",
       "    <tr style=\"text-align: right;\">\n",
       "      <th></th>\n",
       "      <th>Member_number</th>\n",
       "      <th>Date</th>\n",
       "      <th>itemDescription</th>\n",
       "      <th>year</th>\n",
       "      <th>month</th>\n",
       "      <th>day</th>\n",
       "      <th>day_of_week</th>\n",
       "      <th>Year</th>\n",
       "      <th>Month-Year</th>\n",
       "    </tr>\n",
       "  </thead>\n",
       "  <tbody>\n",
       "    <tr>\n",
       "      <th>0</th>\n",
       "      <td>1808</td>\n",
       "      <td>2015-07-21</td>\n",
       "      <td>tropical fruit</td>\n",
       "      <td>2015</td>\n",
       "      <td>7</td>\n",
       "      <td>21</td>\n",
       "      <td>1</td>\n",
       "      <td>21</td>\n",
       "      <td>07-21</td>\n",
       "    </tr>\n",
       "    <tr>\n",
       "      <th>1</th>\n",
       "      <td>2552</td>\n",
       "      <td>2015-05-01</td>\n",
       "      <td>whole milk</td>\n",
       "      <td>2015</td>\n",
       "      <td>5</td>\n",
       "      <td>1</td>\n",
       "      <td>4</td>\n",
       "      <td>01</td>\n",
       "      <td>05-01</td>\n",
       "    </tr>\n",
       "    <tr>\n",
       "      <th>2</th>\n",
       "      <td>2300</td>\n",
       "      <td>2015-09-19</td>\n",
       "      <td>pip fruit</td>\n",
       "      <td>2015</td>\n",
       "      <td>9</td>\n",
       "      <td>19</td>\n",
       "      <td>5</td>\n",
       "      <td>19</td>\n",
       "      <td>09-19</td>\n",
       "    </tr>\n",
       "    <tr>\n",
       "      <th>3</th>\n",
       "      <td>1187</td>\n",
       "      <td>2015-12-12</td>\n",
       "      <td>other vegetables</td>\n",
       "      <td>2015</td>\n",
       "      <td>12</td>\n",
       "      <td>12</td>\n",
       "      <td>5</td>\n",
       "      <td>12</td>\n",
       "      <td>12-12</td>\n",
       "    </tr>\n",
       "    <tr>\n",
       "      <th>4</th>\n",
       "      <td>3037</td>\n",
       "      <td>2015-01-02</td>\n",
       "      <td>whole milk</td>\n",
       "      <td>2015</td>\n",
       "      <td>1</td>\n",
       "      <td>2</td>\n",
       "      <td>4</td>\n",
       "      <td>02</td>\n",
       "      <td>01-02</td>\n",
       "    </tr>\n",
       "  </tbody>\n",
       "</table>\n",
       "</div>"
      ],
      "text/plain": [
       "   Member_number        Date   itemDescription  year  month  day  day_of_week  \\\n",
       "0           1808  2015-07-21    tropical fruit  2015      7   21            1   \n",
       "1           2552  2015-05-01        whole milk  2015      5    1            4   \n",
       "2           2300  2015-09-19         pip fruit  2015      9   19            5   \n",
       "3           1187  2015-12-12  other vegetables  2015     12   12            5   \n",
       "4           3037  2015-01-02        whole milk  2015      1    2            4   \n",
       "\n",
       "  Year Month-Year  \n",
       "0   21      07-21  \n",
       "1   01      05-01  \n",
       "2   19      09-19  \n",
       "3   12      12-12  \n",
       "4   02      01-02  "
      ]
     },
     "execution_count": 8,
     "metadata": {},
     "output_type": "execute_result"
    }
   ],
   "source": [
    "# Exploring Higher sales by time of the year:\n",
    "data[\"Year\"] = data['Date'].str.split(\"-\").str[-1]\n",
    "data[\"Month-Year\"] = data['Date'].str.split(\"-\").str[1] + \"-\" + data['Date'].str.split(\"-\").str[-1]\n",
    "data.head()"
   ]
  },
  {
   "cell_type": "code",
   "execution_count": null,
   "metadata": {
    "colab": {
     "base_uri": "https://localhost:8080/",
     "height": 542
    },
    "executionInfo": {
     "elapsed": 2124,
     "status": "ok",
     "timestamp": 1631369712590,
     "user": {
      "displayName": "Abimani 1998 Kumarage",
      "photoUrl": "https://lh3.googleusercontent.com/a-/AOh14GhXau_6Fsnblc6v-3Bnwqh5kmB7vihI3mHo4fykwg=s64",
      "userId": "00808156177454875173"
     },
     "user_tz": -330
    },
    "id": "MJsBqvdjcye9",
    "outputId": "9d0268d5-be71-4dc2-8167-c5ce002ff4c2"
   },
   "outputs": [],
   "source": [
    "data[\"Year\"] = data['Date'].str.split(\"-\").str[-1]\n",
    "data[\"Month-Year\"] = data['Date'].str.split(\"-\").str[1] + \"-\" + data['Date'].str.split(\"-\").str[-1]\n",
    "fig1 = px.bar(data[\"Month-Year\"].value_counts(ascending=False), \n",
    "              orientation= \"v\", \n",
    "              color = data[\"Month-Year\"].value_counts(ascending=False),\n",
    "               labels={'value':'Count', 'index':'Date','color':'Meter'})\n",
    "\n",
    "fig1.update_layout(title_text=\"Exploring higher sales by the date\")\n",
    "\n",
    "fig1.show()"
   ]
  },
  {
   "cell_type": "code",
   "execution_count": null,
   "metadata": {
    "executionInfo": {
     "elapsed": 749,
     "status": "ok",
     "timestamp": 1631359939847,
     "user": {
      "displayName": "Abimani 1998 Kumarage",
      "photoUrl": "https://lh3.googleusercontent.com/a-/AOh14GhXau_6Fsnblc6v-3Bnwqh5kmB7vihI3mHo4fykwg=s64",
      "userId": "00808156177454875173"
     },
     "user_tz": -330
    },
    "id": "R_VqoimXoQzn"
   },
   "outputs": [],
   "source": [
    "products = data['itemDescription'].unique()"
   ]
  },
  {
   "cell_type": "code",
   "execution_count": null,
   "metadata": {
    "colab": {
     "base_uri": "https://localhost:8080/",
     "height": 370
    },
    "executionInfo": {
     "elapsed": 446,
     "status": "ok",
     "timestamp": 1631359960948,
     "user": {
      "displayName": "Abimani 1998 Kumarage",
      "photoUrl": "https://lh3.googleusercontent.com/a-/AOh14GhXau_6Fsnblc6v-3Bnwqh5kmB7vihI3mHo4fykwg=s64",
      "userId": "00808156177454875173"
     },
     "user_tz": -330
    },
    "id": "tR5fh2-MoVHo",
    "outputId": "e2a41a4b-bb0d-4f69-902b-9ed553328267"
   },
   "outputs": [],
   "source": [
    "#one hot encoding the products:\n",
    "\n",
    "dummy = pd.get_dummies(data['itemDescription'])\n",
    "data.drop(['itemDescription'], inplace =True, axis=1)\n",
    "\n",
    "data = data.join(dummy)\n",
    "\n",
    "data.head()"
   ]
  },
  {
   "cell_type": "code",
   "execution_count": null,
   "metadata": {
    "colab": {
     "base_uri": "https://localhost:8080/",
     "height": 302
    },
    "executionInfo": {
     "elapsed": 447,
     "status": "ok",
     "timestamp": 1631359977383,
     "user": {
      "displayName": "Abimani 1998 Kumarage",
      "photoUrl": "https://lh3.googleusercontent.com/a-/AOh14GhXau_6Fsnblc6v-3Bnwqh5kmB7vihI3mHo4fykwg=s64",
      "userId": "00808156177454875173"
     },
     "user_tz": -330
    },
    "id": "p3WMXAnToZ6F",
    "outputId": "44c45b29-9de5-472b-f287-ea5f7356ca28"
   },
   "outputs": [],
   "source": [
    "# Transaction: If a customer bought multiple products in one day, it will be considered as 1 transaction:\n",
    "\n",
    "data1 = data.groupby(['Member_number', 'Date'])[products[:]].sum()\n",
    "data1 = data1.reset_index()[products]\n",
    "\n",
    "print(\"New Dimension\", data1.shape)\n",
    "data1.head()"
   ]
  },
  {
   "cell_type": "code",
   "execution_count": null,
   "metadata": {
    "colab": {
     "base_uri": "https://localhost:8080/",
     "height": 336
    },
    "executionInfo": {
     "elapsed": 16548,
     "status": "ok",
     "timestamp": 1631360016924,
     "user": {
      "displayName": "Abimani 1998 Kumarage",
      "photoUrl": "https://lh3.googleusercontent.com/a-/AOh14GhXau_6Fsnblc6v-3Bnwqh5kmB7vihI3mHo4fykwg=s64",
      "userId": "00808156177454875173"
     },
     "user_tz": -330
    },
    "id": "y2M-V0L4oeY0",
    "outputId": "c3c1e279-2f20-4103-8f67-e0fd144bb95e"
   },
   "outputs": [],
   "source": [
    "#Replacing all non-zero values with the name of the product:\n",
    "\n",
    "def product_names(x):\n",
    "    for product in products:\n",
    "        if x[product] >0:\n",
    "            x[product] = product\n",
    "    return x\n",
    "\n",
    "data1 = data1.apply(product_names, axis=1)\n",
    "data1.head()"
   ]
  },
  {
   "cell_type": "code",
   "execution_count": null,
   "metadata": {
    "colab": {
     "base_uri": "https://localhost:8080/"
    },
    "executionInfo": {
     "elapsed": 33,
     "status": "ok",
     "timestamp": 1631360061589,
     "user": {
      "displayName": "Abimani 1998 Kumarage",
      "photoUrl": "https://lh3.googleusercontent.com/a-/AOh14GhXau_6Fsnblc6v-3Bnwqh5kmB7vihI3mHo4fykwg=s64",
      "userId": "00808156177454875173"
     },
     "user_tz": -330
    },
    "id": "RUNTyqLpor-B",
    "outputId": "520b8d7d-74aa-4e6d-c1f9-dc7b724acfab"
   },
   "outputs": [],
   "source": [
    "print(\"Total Number of Transactions:\", len(data1))"
   ]
  },
  {
   "cell_type": "code",
   "execution_count": null,
   "metadata": {
    "colab": {
     "base_uri": "https://localhost:8080/"
    },
    "executionInfo": {
     "elapsed": 416,
     "status": "ok",
     "timestamp": 1631360165298,
     "user": {
      "displayName": "Abimani 1998 Kumarage",
      "photoUrl": "https://lh3.googleusercontent.com/a-/AOh14GhXau_6Fsnblc6v-3Bnwqh5kmB7vihI3mHo4fykwg=s64",
      "userId": "00808156177454875173"
     },
     "user_tz": -330
    },
    "id": "QM-04go_ozJ7",
    "outputId": "5b55dc1a-b674-4e04-9856-63e9f05fd041"
   },
   "outputs": [],
   "source": [
    "#Removing Zeros, Extracting the list of items bought per customer\n",
    "\n",
    "x = data1.values\n",
    "x = [sub[~(sub==0)].tolist() for sub in x if sub [sub != 0].tolist()]\n",
    "transactions = x\n",
    "transactions[0:10]"
   ]
  },
  {
   "cell_type": "code",
   "execution_count": null,
   "metadata": {
    "colab": {
     "base_uri": "https://localhost:8080/"
    },
    "executionInfo": {
     "elapsed": 678,
     "status": "ok",
     "timestamp": 1631360189440,
     "user": {
      "displayName": "Abimani 1998 Kumarage",
      "photoUrl": "https://lh3.googleusercontent.com/a-/AOh14GhXau_6Fsnblc6v-3Bnwqh5kmB7vihI3mHo4fykwg=s64",
      "userId": "00808156177454875173"
     },
     "user_tz": -330
    },
    "id": "Ic2qOS_0pM-S",
    "outputId": "77e78ced-9f1d-44c1-9c7d-ba965b71d880"
   },
   "outputs": [],
   "source": [
    "rules = apriori(transactions, min_support = 0.00030, min_confidence = 0.05, min_lift = 3, max_length = 2, target = \"rules\")\n",
    "association_results = list(rules)\n",
    "print(association_results[0])"
   ]
  },
  {
   "cell_type": "code",
   "execution_count": null,
   "metadata": {
    "colab": {
     "base_uri": "https://localhost:8080/"
    },
    "executionInfo": {
     "elapsed": 430,
     "status": "ok",
     "timestamp": 1631360205501,
     "user": {
      "displayName": "Abimani 1998 Kumarage",
      "photoUrl": "https://lh3.googleusercontent.com/a-/AOh14GhXau_6Fsnblc6v-3Bnwqh5kmB7vihI3mHo4fykwg=s64",
      "userId": "00808156177454875173"
     },
     "user_tz": -330
    },
    "id": "Ni814eWrpRWG",
    "outputId": "af618aef-9d26-4417-e3dd-ada219b6c55d"
   },
   "outputs": [],
   "source": [
    "for item in association_results:\n",
    "    \n",
    "    pair = item[0]\n",
    "    items = [x for x in pair]\n",
    "    \n",
    "    print(\"Rule : \", items[0], \" -> \" + items[1])\n",
    "    print(\"Support : \", str(item[1]))\n",
    "    print(\"Confidence : \",str(item[2][0][2]))\n",
    "    print(\"Lift : \", str(item[2][0][3]))\n",
    "    \n",
    "    print(\"=============================\") "
   ]
  }
 ],
 "metadata": {
  "colab": {
   "authorship_tag": "ABX9TyMDTIjWcz8L7jBoL8mQ3It/",
   "name": "FDM_MiniProject.ipynb",
   "provenance": []
  },
  "kernelspec": {
   "display_name": "Python 3 (ipykernel)",
   "language": "python",
   "name": "python3"
  },
  "language_info": {
   "codemirror_mode": {
    "name": "ipython",
    "version": 3
   },
   "file_extension": ".py",
   "mimetype": "text/x-python",
   "name": "python",
   "nbconvert_exporter": "python",
   "pygments_lexer": "ipython3",
   "version": "3.9.7"
  }
 },
 "nbformat": 4,
 "nbformat_minor": 1
}
