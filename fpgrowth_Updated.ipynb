{
  "nbformat": 4,
  "nbformat_minor": 0,
  "metadata": {
    "kernelspec": {
      "language": "python",
      "display_name": "Python 3",
      "name": "python3"
    },
    "language_info": {
      "name": "python",
      "version": "3.6.6",
      "mimetype": "text/x-python",
      "codemirror_mode": {
        "name": "ipython",
        "version": 3
      },
      "pygments_lexer": "ipython3",
      "nbconvert_exporter": "python",
      "file_extension": ".py"
    },
    "colab": {
      "name": "fpgrowth.ipynb",
      "provenance": [],
      "collapsed_sections": [],
      "include_colab_link": true
    }
  },
  "cells": [
    {
      "cell_type": "markdown",
      "metadata": {
        "id": "view-in-github",
        "colab_type": "text"
      },
      "source": [
        "<a href=\"https://colab.research.google.com/github/LVABIMANIKumarage/FDM_Mini_Project/blob/main/fpgrowth_Updated.ipynb\" target=\"_parent\"><img src=\"https://colab.research.google.com/assets/colab-badge.svg\" alt=\"Open In Colab\"/></a>"
      ]
    },
    {
      "cell_type": "code",
      "metadata": {
        "_uuid": "8f2839f25d086af736a60e9eeb907d3b93b6e0e5",
        "_cell_guid": "b1076dfc-b9ad-4769-8c92-a6c4dae69d19",
        "execution": {
          "iopub.status.busy": "2021-09-23T08:41:56.501601Z",
          "iopub.execute_input": "2021-09-23T08:41:56.502088Z",
          "iopub.status.idle": "2021-09-23T08:41:56.512457Z",
          "shell.execute_reply.started": "2021-09-23T08:41:56.502021Z",
          "shell.execute_reply": "2021-09-23T08:41:56.511070Z"
        },
        "trusted": true,
        "id": "jS_iwCG1NzBB"
      },
      "source": [
        "# This Python 3 environment comes with many helpful analytics libraries installed\n",
        "\n",
        "# For example, here's several helpful packages to load in \n",
        "\n",
        "import numpy as np # linear algebra\n",
        "import pandas as pd # data processing, CSV file I/O (e.g. pd.read_csv)\n",
        "import pandas as pd\n",
        "import numpy as np\n",
        "from mlxtend.frequent_patterns import apriori, association_rules\n",
        "\n",
        "# Input data files are available in the \"../input/\" directory.\n",
        "# For example, running this (by clicking run or pressing Shift+Enter) will list all files under the input directory\n",
        "\n",
        "import os\n",
        "for dirname, _, filenames in os.walk('/kaggle/input'):\n",
        "    for filename in filenames:\n",
        "        print(os.path.join(dirname, filename))\n",
        "\n",
        "# Any results you write to the current directory are saved as output."
      ],
      "execution_count": null,
      "outputs": []
    },
    {
      "cell_type": "code",
      "metadata": {
        "execution": {
          "iopub.status.busy": "2021-09-23T08:41:56.519001Z",
          "iopub.execute_input": "2021-09-23T08:41:56.519304Z",
          "iopub.status.idle": "2021-09-23T08:41:56.572094Z",
          "shell.execute_reply.started": "2021-09-23T08:41:56.519252Z",
          "shell.execute_reply": "2021-09-23T08:41:56.570734Z"
        },
        "trusted": true,
        "id": "iOeK_WoANzBP"
      },
      "source": [
        "df = pd.read_csv('../input/groceries/groceries - groceries.csv')"
      ],
      "execution_count": null,
      "outputs": []
    },
    {
      "cell_type": "code",
      "metadata": {
        "_uuid": "d629ff2d2480ee46fbb7e2d37f6b5fab8052498a",
        "_cell_guid": "79c7e3d0-c299-4dcb-8224-4455121ee9b0",
        "execution": {
          "iopub.status.busy": "2021-09-23T08:41:56.574396Z",
          "iopub.execute_input": "2021-09-23T08:41:56.574668Z",
          "iopub.status.idle": "2021-09-23T08:41:56.579514Z",
          "shell.execute_reply.started": "2021-09-23T08:41:56.574621Z",
          "shell.execute_reply": "2021-09-23T08:41:56.578451Z"
        },
        "trusted": true,
        "id": "hUCrWHPiNzBU"
      },
      "source": [
        "from mlxtend.frequent_patterns import fpgrowth"
      ],
      "execution_count": null,
      "outputs": []
    },
    {
      "cell_type": "code",
      "metadata": {
        "execution": {
          "iopub.status.busy": "2021-09-23T08:41:56.580721Z",
          "iopub.execute_input": "2021-09-23T08:41:56.580976Z",
          "iopub.status.idle": "2021-09-23T08:41:56.592723Z",
          "shell.execute_reply.started": "2021-09-23T08:41:56.580929Z",
          "shell.execute_reply": "2021-09-23T08:41:56.591975Z"
        },
        "trusted": true,
        "id": "BcDkQSx3NzBV"
      },
      "source": [
        "items = (df['Item 1'].unique())"
      ],
      "execution_count": null,
      "outputs": []
    },
    {
      "cell_type": "code",
      "metadata": {
        "execution": {
          "iopub.status.busy": "2021-09-23T08:41:56.593995Z",
          "iopub.execute_input": "2021-09-23T08:41:56.594222Z",
          "iopub.status.idle": "2021-09-23T08:41:59.444936Z",
          "shell.execute_reply.started": "2021-09-23T08:41:56.594188Z",
          "shell.execute_reply": "2021-09-23T08:41:59.443514Z"
        },
        "trusted": true,
        "id": "MxoMrKcgNzBW"
      },
      "source": [
        "encoded_vals = []\n",
        "for index, row in df.iterrows():\n",
        "    labels = {}\n",
        "    uncommons = list(set(items) - set(row))\n",
        "    commons = list(set(items).intersection(row))\n",
        "    for uc in uncommons:\n",
        "        labels[uc] = 0\n",
        "    for com in commons:\n",
        "        labels[com] = 1\n",
        "    encoded_vals.append(labels)\n",
        "encoded_vals[0]\n",
        "ohe_df = pd.DataFrame(encoded_vals)"
      ],
      "execution_count": null,
      "outputs": []
    },
    {
      "cell_type": "code",
      "metadata": {
        "execution": {
          "iopub.status.busy": "2021-09-23T08:41:59.447063Z",
          "iopub.execute_input": "2021-09-23T08:41:59.447340Z",
          "iopub.status.idle": "2021-09-23T08:42:05.628029Z",
          "shell.execute_reply.started": "2021-09-23T08:41:59.447291Z",
          "shell.execute_reply": "2021-09-23T08:42:05.626573Z"
        },
        "trusted": true,
        "id": "cI9kERf6NzBX"
      },
      "source": [
        "freq_items = fpgrowth(ohe_df, min_support=0.0003, use_colnames=True)\n",
        "freq_items.head()"
      ],
      "execution_count": null,
      "outputs": []
    },
    {
      "cell_type": "code",
      "metadata": {
        "execution": {
          "iopub.status.busy": "2021-09-23T08:42:05.629488Z",
          "iopub.execute_input": "2021-09-23T08:42:05.629754Z",
          "iopub.status.idle": "2021-09-23T08:42:38.138832Z",
          "shell.execute_reply.started": "2021-09-23T08:42:05.629708Z",
          "shell.execute_reply": "2021-09-23T08:42:38.137973Z"
        },
        "trusted": true,
        "id": "tRUCYT1HNzBY"
      },
      "source": [
        "rules = association_rules(freq_items, metric=\"confidence\", min_threshold=0.05)\n",
        "rules.head(5)"
      ],
      "execution_count": null,
      "outputs": []
    },
    {
      "cell_type": "code",
      "metadata": {
        "execution": {
          "iopub.status.busy": "2021-09-23T08:42:38.140721Z",
          "iopub.execute_input": "2021-09-23T08:42:38.141074Z",
          "iopub.status.idle": "2021-09-23T08:42:44.978240Z",
          "shell.execute_reply.started": "2021-09-23T08:42:38.141015Z",
          "shell.execute_reply": "2021-09-23T08:42:44.977015Z"
        },
        "trusted": true,
        "id": "_llW9F-yNzBZ"
      },
      "source": [
        "sr=[]\n",
        "for row in rules.itertuples():\n",
        "    if(len(getattr(row,'antecedents'))==2):\n",
        "        sr.append(getattr(row,'Index'))\n",
        "rules.iloc[sr].sort_values(by=['confidence'],ascending=False)"
      ],
      "execution_count": null,
      "outputs": []
    }
  ]
}